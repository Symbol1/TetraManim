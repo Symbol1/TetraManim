{
 "cells": [
  {
   "cell_type": "code",
   "execution_count": 164,
   "metadata": {},
   "outputs": [],
   "source": [
    "from manim import *"
   ]
  },
  {
   "cell_type": "code",
   "execution_count": 165,
   "metadata": {},
   "outputs": [],
   "source": [
    "# %manim --help"
   ]
  },
  {
   "cell_type": "markdown",
   "metadata": {},
   "source": [
    "# Section A: Welcome"
   ]
  },
  {
   "cell_type": "code",
   "execution_count": 166,
   "metadata": {},
   "outputs": [
    {
     "name": "stderr",
     "output_type": "stream",
     "text": [
      "                                                                                                                               \r"
     ]
    },
    {
     "data": {
      "text/html": [
       "<video src=\"media/jupyter/A1_WelcomePage@2022-09-19@22-52-25.mp4\" controls autoplay loop style=\"max-width: 60%;\"  >\n",
       "      Your browser does not support the <code>video</code> element.\n",
       "    </video>"
      ],
      "text/plain": [
       "<IPython.core.display.Video object>"
      ]
     },
     "metadata": {},
     "output_type": "display_data"
    }
   ],
   "source": [
    "%%manim -qh -v WARNING A1_WelcomePage\n",
    "\n",
    "class A1_WelcomePage(Scene):\n",
    "    def construct(self):\n",
    "        title   = Text(r'Accelerating Polarization via Alphabet Extension')\n",
    "        date    = Tex(r'RANDOM 2022', color=MAROON).shift(2*UP)\n",
    "        spread  = 5.5 * RIGHT\n",
    "        author1 = Tex(r'Iwan Duursma \\\\ UIUC').shift(-2*spread)\n",
    "        author2 = Tex(r'Ryan Gabrys \\\\ UC San Diego').shift(-spread)\n",
    "        author3 = Tex(r'Venkatesan Guruswami \\\\ UC Berkeley')\n",
    "        author4 = Tex(r'Ting-Chun Lin \\\\ UC San Diego+Foxconn').shift(spread)\n",
    "        author5 = Tex(r'Hsin-Po Wang  \\\\ UC San Diego').shift(2*spread)\n",
    "        authors = VGroup(author1, author2, author3, author4, author5)\n",
    "        authors . set_color(GOLD).scale(1/2).shift(2*DOWN)\n",
    "        fadeins = [FadeIn(date)] + [FadeIn(author) for author in authors]\n",
    "        self.play(Write(title), run_time=3)\n",
    "        self.play(AnimationGroup(*fadeins, run_time=3, lag_ratio=.2))\n",
    "        self.wait(3)\n",
    "        self.play(FadeOut(*self.mobjects), run_time=1)\n",
    "'''\n",
    "Welcome!\n",
    "\n",
    "Today, I want to share with you\n",
    "how to accelerate polarization via alphabet extension.\n",
    "'''"
   ]
  },
  {
   "cell_type": "markdown",
   "metadata": {},
   "source": [
    "# Section B: Introduction"
   ]
  },
  {
   "cell_type": "code",
   "execution_count": 167,
   "metadata": {},
   "outputs": [
    {
     "name": "stderr",
     "output_type": "stream",
     "text": [
      "                                                                                                                                      \r"
     ]
    },
    {
     "data": {
      "text/html": [
       "<video src=\"media/jupyter/B1_SubjectCode@2022-09-19@22-52-58.mp4\" controls autoplay loop style=\"max-width: 60%;\"  >\n",
       "      Your browser does not support the <code>video</code> element.\n",
       "    </video>"
      ],
      "text/plain": [
       "<IPython.core.display.Video object>"
      ]
     },
     "metadata": {},
     "output_type": "display_data"
    }
   ],
   "source": [
    "%%manim -qh -v WARNING B1_SubjectCode\n",
    "\n",
    "class B1_SubjectCode(Scene):\n",
    "    def construct(self):\n",
    "        subject = Text(\"Today's subject\").shift(2.5*UP)\n",
    "        x = ''\n",
    "        genmatrix = Matrix([\n",
    "            [1, x, x, x, x, x, x, x],\n",
    "            [1, 1, x, x, x, x, x, x],\n",
    "            [1, 0, 1, x, x, x, x, x],\n",
    "            [1, 1, 1, 1, x, x, x, x],\n",
    "            [1, 0, 0, 0, 1, x, x, x],\n",
    "            [1, 1, 0, 0, 1, 1, x, x],\n",
    "            [1, 0, 1, 0, 1, 0, 1, x],\n",
    "            [1, 1, 1, 1, 1, 1, 1, 1],\n",
    "        ], v_buff=0.4, h_buff=0.5).set_color(GREEN)\n",
    "        polartxt = Text('polar code').shift(2.5*DOWN)\n",
    "        capacity = Tex(r'theory wise: \\\\'\n",
    "                       r'$R \\to I(X;Y)$ \\\\'\n",
    "                       r'capacity achieving').shift(5*LEFT)\n",
    "        standard = Tex(r'application wise: \\\\'\n",
    "                       r'adapted into \\\\'\n",
    "                       r'5G Standard').shift(5*RIGHT)\n",
    "        self.play(FadeIn(subject), run_time=1)\n",
    "        self.play(Create(genmatrix), Create(polartxt), run_time=2)\n",
    "        self.wait(4)\n",
    "        self.play(FadeIn(capacity), run_time=1)\n",
    "        self.wait(4)\n",
    "        self.play(FadeIn(standard), run_time=1)\n",
    "        self.wait(4)\n",
    "        toFadeOut = self.mobjects.copy(); toFadeOut.remove(capacity)\n",
    "        self.play(Circumscribe(capacity), FadeOut(*toFadeOut), run_time=1)\n",
    "        self.play(Circumscribe(capacity), run_time=1)\n",
    "        self.play(Circumscribe(capacity), run_time=1)\n",
    "        self.play(FadeOut(capacity), run_time=1)\n",
    "'''\n",
    "The subject of this talk is... polar code!\n",
    "\n",
    "Polar code is a young error-correcting code that achieves Shannon capacity\n",
    "and is recently adapted into the 5G communication standard.\n",
    "\n",
    "Today, we will be focusing on the capacity-achieving property.\n",
    "'''"
   ]
  },
  {
   "cell_type": "code",
   "execution_count": 168,
   "metadata": {},
   "outputs": [
    {
     "name": "stderr",
     "output_type": "stream",
     "text": [
      "                                                                                                 \r"
     ]
    },
    {
     "data": {
      "text/html": [
       "<video src=\"media/jupyter/B2_CodeRatePlot@2022-09-19@22-53-18.mp4\" controls autoplay loop style=\"max-width: 60%;\"  >\n",
       "      Your browser does not support the <code>video</code> element.\n",
       "    </video>"
      ],
      "text/plain": [
       "<IPython.core.display.Video object>"
      ]
     },
     "metadata": {},
     "output_type": "display_data"
    }
   ],
   "source": [
    "%%manim -qh -v WARNING B2_CodeRatePlot\n",
    "\n",
    "class B2_CodeRatePlot(Scene):\n",
    "    def construct(self):\n",
    "        RNplot = Axes(\n",
    "            x_range=(0, 1000, 100), x_length=10,\n",
    "            y_range=(0, 1, 0.1),    y_length=5,\n",
    "            axis_config={\"include_numbers\": True}\n",
    "        )\n",
    "        yl = RNplot.get_y_axis_label(\n",
    "            Text(\"code rate\").rotate(90 * DEGREES),\n",
    "            edge=LEFT,direction=LEFT,buff=0.5\n",
    "        )\n",
    "        xl = RNplot.get_x_axis_label(\n",
    "            Text('block length'),\n",
    "            edge=DOWN, direction=DOWN, buff=0.5\n",
    "        )\n",
    "        cap = RNplot.plot(lambda x: 3/4, color=PURPLE_A)\n",
    "        captxt = RNplot.get_graph_label(\n",
    "            graph=cap,\n",
    "            label=Text('capacity'),\n",
    "            direction=UR, buff=0,\n",
    "        )\n",
    "        mu2 = RNplot.plot(lambda x: 3/4 - (5+x/3)**(-1/2), color=PURPLE_B)\n",
    "        mu3 = RNplot.plot(lambda x: 3/4 - (5+x/3)**(-1/3), color=PURPLE_C)\n",
    "        mu4 = RNplot.plot(lambda x: 3/4 - (5+x/3)**(-1/4), color=PURPLE_D)\n",
    "        mu5 = RNplot.plot(lambda x: 3/4 - (5+x/3)**(-1/5), color=PURPLE_E)\n",
    "        muse = VGroup(mu2, mu3, mu4, mu5)\n",
    "        self.play(FadeIn(RNplot), FadeIn(yl), FadeIn(xl), run_time=1)\n",
    "        self.play(Create(cap), FadeIn(captxt), run_time=2)\n",
    "        self.play(Create(muse), run_time=6, lag_ratio=.5)\n",
    "        self.wait(3)\n",
    "        self.play(FadeOut(*self.mobjects), run_time=1)\n",
    "'''\n",
    "For an error-correcting code to achieve Shannon capacity,\n",
    "the code rate must increase and converge to the capacity\n",
    "as the block length grows to infinity,\n",
    "'''"
   ]
  },
  {
   "cell_type": "code",
   "execution_count": 169,
   "metadata": {},
   "outputs": [
    {
     "name": "stderr",
     "output_type": "stream",
     "text": [
      "                                                                                                                                                                    \r"
     ]
    },
    {
     "data": {
      "text/html": [
       "<video src=\"media/jupyter/B3_ScalingLaw@2022-09-19@22-53-47.mp4\" controls autoplay loop style=\"max-width: 60%;\"  >\n",
       "      Your browser does not support the <code>video</code> element.\n",
       "    </video>"
      ],
      "text/plain": [
       "<IPython.core.display.Video object>"
      ]
     },
     "metadata": {},
     "output_type": "display_data"
    }
   ],
   "source": [
    "%%manim -qh -v WARNING B3_ScalingLaw\n",
    "\n",
    "class B3_ScalingLaw(Scene):\n",
    "    def construct(self):\n",
    "        problem = Text('How fast does polar code achieve capacity?').shift(2*UP)\n",
    "        scalelaw = Tex(r'$(\\text{capacity} - \\text{code rate})^{-\\mu}'\n",
    "                       r'\\approx \\text{block length}$').scale(1.5)\n",
    "        exponent = Tex(r'$\\mu$ is called the scaling exponent',\n",
    "                       tex_to_color_map={'scaling exponent':BLUE}).shift(2*DOWN)\n",
    "        self.play(FadeIn(problem), run_time=1)\n",
    "        self.wait(4)\n",
    "        self.play(Create(scalelaw), run_time=6)\n",
    "        self.play(Create(exponent), run_time=4)\n",
    "        self.wait(4)\n",
    "        self.play(FadeOut(problem), FadeOut(exponent), run_time=1)\n",
    "        self.play(scalelaw.animate.shift(2.8*UP), run_time=1)\n",
    "'''\n",
    "This begs the following question:\n",
    "How fast does polar code achieve capacity?\n",
    "\n",
    "As it turns out,\n",
    "if you take the gap between capacity and code rate,\n",
    "and raise it to the power of negative mu, where mu is a magic number,\n",
    "then the result will be approximately the block length.\n",
    "'''"
   ]
  },
  {
   "cell_type": "code",
   "execution_count": 170,
   "metadata": {},
   "outputs": [
    {
     "name": "stderr",
     "output_type": "stream",
     "text": [
      "                                                                                                                                                     \r"
     ]
    },
    {
     "data": {
      "text/html": [
       "<video src=\"media/jupyter/B4_ScalingHistory@2022-09-19@22-54-31.mp4\" controls autoplay loop style=\"max-width: 60%;\"  >\n",
       "      Your browser does not support the <code>video</code> element.\n",
       "    </video>"
      ],
      "text/plain": [
       "<IPython.core.display.Video object>"
      ]
     },
     "metadata": {},
     "output_type": "display_data"
    }
   ],
   "source": [
    "%%manim -qh -v WARNING B4_ScalingHistory\n",
    "\n",
    "class B4_ScalingHistory(Scene):\n",
    "    def construct(self):\n",
    "        scalelaw = Tex(r'$(\\text{capacity} - \\text{code rate})^{-\\mu}'\n",
    "                       r'\\approx \\text{block length}$').scale(1.5).shift(2.8*UP)\n",
    "        hist0 = Tex(r\"$3.589 < \\mu < 3.627$ over BEC \"\n",
    "                     \"[Hassani--Alishahi--Urbanke '10]\").shift(1.4*UP)\n",
    "        hist1 = Tex(r\"$\\mu \\approx 3.627$ over BEC \"\n",
    "                     \"[Korada--Montanari--Telatar--Urbanke '10]\").shift(.7*UP)\n",
    "        hist2 = Tex(r\"$\\mu < \\infty$ over BMS \"\n",
    "                     \"[Guruswami--Xia '15]\").shift(0*UP)\n",
    "        hist3 = Tex(r\"$\\mu > 3.553$ over BMS \"\n",
    "                     \"[Goli--Hassani--Urbanke '12]\").shift(.7*DOWN)\n",
    "        hist4 = Tex(r\"$3.579 < \\mu < 6$ over BMS \"\n",
    "                     \"[Hassani--Alishahi--Urbanke '14]\").shift(1.4*DOWN)\n",
    "        hist5 = Tex(r\"$\\mu < 5.702$ over BMS \"\n",
    "                     \"[Goldin--Burshtein '14]\").shift(2.1*DOWN)\n",
    "        hist6 = Tex(r\"$\\mu < 4.714$ over BMS \"\n",
    "                     \"[Mondelli--Hassani--Urbanke '16]\").shift(2.8*DOWN)\n",
    "        hist7 = Tex(r\"$\\mu < 4.63$ over BMS \"\n",
    "                     \"[Wang--Lin--Vardy--Gabrys '22]\").shift(3.5*DOWN)\n",
    "        self.add(scalelaw)\n",
    "        self.play(FadeIn(hist0), run_time=1.5)\n",
    "        self.play(FadeIn(hist1), run_time=1.5)\n",
    "        self.play(FadeIn(hist2), run_time=1.5)\n",
    "        self.play(FadeIn(hist3), run_time=1.5)\n",
    "        self.play(FadeIn(hist4), run_time=1.5)\n",
    "        self.play(FadeIn(hist5), run_time=1.5)\n",
    "        self.play(FadeIn(hist6), run_time=1.5)\n",
    "        self.play(FadeIn(hist7), run_time=1.5)\n",
    "        self.wait(4)\n",
    "        toFadeOut = self.mobjects.copy(); toFadeOut.remove(scalelaw)\n",
    "        self.play(FadeOut(*toFadeOut), run_time=1)\n",
    "'''\n",
    "This magic number, mu, is called the *scaling exponent*.\n",
    "And there are many ... many works that aim to figure out the exact value of mu.\n",
    "\n",
    "I listed some of them just to show you how important mu is.\n",
    "'''"
   ]
  },
  {
   "cell_type": "code",
   "execution_count": 189,
   "metadata": {},
   "outputs": [
    {
     "name": "stderr",
     "output_type": "stream",
     "text": [
      "                                                                                                                                             \r"
     ]
    },
    {
     "data": {
      "text/html": [
       "<video src=\"media/jupyter/B5_LargerKernel@2022-09-19@23-37-10.mp4\" controls autoplay loop style=\"max-width: 60%;\"  >\n",
       "      Your browser does not support the <code>video</code> element.\n",
       "    </video>"
      ],
      "text/plain": [
       "<IPython.core.display.Video object>"
      ]
     },
     "metadata": {},
     "output_type": "display_data"
    }
   ],
   "source": [
    "%%manim -qh -v WARNING B5_LargerKernel\n",
    "\n",
    "class B5_LargerKernel(Scene):\n",
    "    def construct(self):\n",
    "        scalelaw = Tex(r'$(\\text{capacity} - \\text{code rate})^{-\\mu}'\n",
    "                       r'\\approx \\text{block length}$').scale(1.5).shift(2.8*UP)\n",
    "        overBEC = Tex(r\"(All over BEC)\").shift(1.4*UP)\n",
    "        kern1 = Tex(r\"$\\mu \\approx 3.627$ \"\n",
    "                     \"[Korada--Montanari--Telatar--Urbanke '10]\").shift(.7*UP)\n",
    "        kern2 = Tex(r\"$\\mu \\approx 3.577$ via $8 \\times 8$ kernel \"\n",
    "                     \"[Fazeli--Vardy '14]\").shift(0*UP)\n",
    "        kern3 = Tex(r\"$\\mu \\approx 3.346$ via $16 \\times 16$ kernel \"\n",
    "                     \"[Trofimiuk--Trifonov '21]\").shift(.7*DOWN)\n",
    "        kern4 = Tex(r\"$\\mu \\approx 3.308$ via $24 \\times 24$ kernel \"\n",
    "                     \"[Trofimiuk '21]\").shift(2.1*DOWN)\n",
    "        kern5 = Tex(r\"$\\mu \\approx 3.122$ via $32 \\times 32$ kernel \"\n",
    "                     \"[Yao--Fazeli--Vardy '21]\").shift(2.8*DOWN)\n",
    "        kern6 = Tex(r\"$\\mu < 3.328$ via GF(4) arithmetics \"\n",
    "                     \"[This work]\", color=TEAL).shift(1.4*DOWN)\n",
    "        self.add(scalelaw)\n",
    "        self.play(FadeIn(overBEC), run_time=1)\n",
    "        self.play(FadeIn(kern1), run_time=1.5)\n",
    "        self.play(FadeIn(kern2), run_time=1.5)\n",
    "        self.play(FadeIn(kern3), run_time=1.5)\n",
    "        self.play(FadeIn(kern4), run_time=1.5)\n",
    "        self.play(FadeIn(kern5), run_time=1.5)\n",
    "        self.wait(2)\n",
    "        self.play(FadeIn(kern6), run_time=1.5)\n",
    "        self.wait(4)\n",
    "        self.play(FadeOut(*self.mobjects), run_time=1)\n",
    "'''\n",
    "There are as many works that aim to improve mu.\n",
    "The popular technique here is to increase the size\n",
    "of the so-called *kernel matrix*.\n",
    "We, however, take a different approach.\n",
    "'''"
   ]
  },
  {
   "cell_type": "markdown",
   "metadata": {},
   "source": [
    "# Section C: Binary Case"
   ]
  },
  {
   "cell_type": "code",
   "execution_count": 172,
   "metadata": {},
   "outputs": [
    {
     "name": "stderr",
     "output_type": "stream",
     "text": [
      "                                                                                                                   \r"
     ]
    },
    {
     "data": {
      "text/html": [
       "<video src=\"media/jupyter/C1_BinaryErasure@2022-09-19@22-56-54.mp4\" controls autoplay loop style=\"max-width: 60%;\"  >\n",
       "      Your browser does not support the <code>video</code> element.\n",
       "    </video>"
      ],
      "text/plain": [
       "<IPython.core.display.Video object>"
      ]
     },
     "metadata": {},
     "output_type": "display_data"
    }
   ],
   "source": [
    "%%manim -qh -v WARNING C1_BinaryErasure\n",
    "\n",
    "class C1_BinaryErasure(Scene):\n",
    "    def construct(self):\n",
    "        BEC = Text('Binary Erasure Channels (BEC)').shift(3*UP)\n",
    "        left0 = Text('0').shift([-2,1,0])\n",
    "        left1 = Text('1').shift([-2,-2,0])\n",
    "        right0 = Text('0').shift([2,1,0])\n",
    "        right_ = Text('?').shift([2,-.5,0])\n",
    "        right1 = Text('1').shift([2,-2,0])\n",
    "        arr00 = Arrow(start=left0.get_right(), end=right0.get_left())\n",
    "        arr0_ = Arrow(start=left0.get_right(), end=right_.get_left())\n",
    "        arr1_ = Arrow(start=left1.get_right(), end=right_.get_left())\n",
    "        arr11 = Arrow(start=left1.get_right(), end=right1.get_left())\n",
    "        arr00txt = Tex(r'$1 - p$').move_to(arr00).shift(0.3*UP)\n",
    "        arr0_txt = Tex(r'$    p$').move_to(arr0_).shift(0.2*LEFT+0.2*DOWN)\n",
    "        arr1_txt = Tex(r'$    p$').move_to(arr1_).shift(0.2*LEFT+0.2*UP)\n",
    "        arr11txt = Tex(r'$1 - p$').move_to(arr11).shift(0.3*DOWN)\n",
    "        erasure = Tex(r'$p$ is called the erasure probability',\n",
    "                  tex_to_color_map={'erasure probability':MAROON}).shift(3*DOWN)\n",
    "        self.play(FadeIn(BEC), run_time=1)\n",
    "        self.play(FadeIn(\n",
    "            left0, left1,\n",
    "            right0, right_, right1,\n",
    "            arr00, arr00txt,\n",
    "            arr0_, arr0_txt,\n",
    "            arr1_, arr1_txt,\n",
    "            arr11, arr11txt\n",
    "        ))\n",
    "        def flash(left, arr, right):\n",
    "            self.wait(.5)\n",
    "            self.play(Indicate(left, color=MAROON, run_time=.5, scale_factor=3))\n",
    "            self.play(ShowPassingFlash(arr.copy().set_color(MAROON),\n",
    "                                                     run_time=1, time_width=1))\n",
    "            self.play(Indicate(right,color=MAROON, run_time=.5, scale_factor=3))\n",
    "        self.wait(2)\n",
    "        flash(left0, arr00, right0)\n",
    "        flash(left0, arr0_, right_)\n",
    "        flash(left1, arr1_, right_)\n",
    "        flash(left1, arr11, right1)\n",
    "        flash(left0, arr00, right0)\n",
    "        flash(left0, arr0_, right_)\n",
    "        flash(left1, arr1_, right_)\n",
    "        flash(left1, arr11, right1)\n",
    "        self.play(FadeIn(erasure), run_time=1)\n",
    "        self.wait(6)\n",
    "        self.play(FadeOut(*self.mobjects), run_time=1)\n",
    "'''\n",
    "Before we dive into our new approach, let's review binary erasure channel.\n",
    "\n",
    "A binary erasure channel is a channel with input 0 or 1\n",
    "and output 0 or 1 or question mark.\n",
    "A 0 can remain 0 or become a question mark.\n",
    "A 1 can remain 1 or become a question mark.\n",
    "\n",
    "The probability that a bit becomes a question mark\n",
    "is called the *erasure probability*.\n",
    "'''"
   ]
  },
  {
   "cell_type": "code",
   "execution_count": 173,
   "metadata": {},
   "outputs": [
    {
     "name": "stderr",
     "output_type": "stream",
     "text": [
      "                                                                                                   \r"
     ]
    },
    {
     "data": {
      "text/html": [
       "<video src=\"media/jupyter/C2_ParallelSerial@2022-09-19@22-57-47.mp4\" controls autoplay loop style=\"max-width: 60%;\"  >\n",
       "      Your browser does not support the <code>video</code> element.\n",
       "    </video>"
      ],
      "text/plain": [
       "<IPython.core.display.Video object>"
      ]
     },
     "metadata": {},
     "output_type": "display_data"
    }
   ],
   "source": [
    "%%manim -qh -v WARNING C2_ParallelSerial\n",
    "\n",
    "class C2_ParallelSerial(Scene):\n",
    "    def construct(self):\n",
    "        coding = Text('Polar coding over BEC').shift(3*UP)\n",
    "        P0 = np.array([-3,-3,0])\n",
    "        P1 = np.array([-1,-1,0])\n",
    "        P2 = np.array([1,1,0])\n",
    "        W = VGroup(\n",
    "            Dot(P1), Dot(P2),\n",
    "            ArcBetweenPoints(start=P1, end=P2, angle=-PI/2),\n",
    "            Tex(r'$x$').next_to((P1+P2)/2, LEFT)\n",
    "        )\n",
    "        Wa = W.copy()\n",
    "        Wb = W.copy().shift(P0-P1)\n",
    "        Wc = W.copy().rotate(PI)\n",
    "        W0 = VGroup(\n",
    "            Wa.copy(), Wb.copy(),\n",
    "            Tex(r'$x^2$').next_to(P1, RIGHT)\n",
    "        ).shift(3*LEFT)\n",
    "        W1 = VGroup(\n",
    "            Wa.copy(), Wc.copy(),\n",
    "            Tex(r'$1-(1-x)^2$').next_to(P1, DOWN)\n",
    "        ).shift(4*RIGHT)\n",
    "        self.play(FadeIn(coding), run_time=1)\n",
    "        self.wait(5)\n",
    "        self.play(Create(W), run_time=5)\n",
    "        self.wait(5)\n",
    "        self.play(Create(W0), run_time=5)\n",
    "        self.wait(5)\n",
    "        self.play(Create(W1), run_time=5)\n",
    "        self.wait(5)\n",
    "        self.play(FadeOut(*self.mobjects), run_time=1)\n",
    "'''\n",
    "And here is how to construct polar code over BEC.\n",
    "\n",
    "Imagine that a BEC with erasure probability 1-x\n",
    "is a wire with connection probability x.\n",
    "\n",
    "Then the serial concatenation of two BECs has connection probability x^2.\n",
    "\n",
    "The parallel combination of two BECs has connection probability 1-(1-x)^2.\n",
    "'''"
   ]
  },
  {
   "cell_type": "code",
   "execution_count": 190,
   "metadata": {},
   "outputs": [
    {
     "name": "stderr",
     "output_type": "stream",
     "text": [
      "                                                                                    \r"
     ]
    },
    {
     "data": {
      "text/html": [
       "<video src=\"media/jupyter/C3_GrandChildren@2022-09-19@23-37-18.mp4\" controls autoplay loop style=\"max-width: 60%;\"  >\n",
       "      Your browser does not support the <code>video</code> element.\n",
       "    </video>"
      ],
      "text/plain": [
       "<IPython.core.display.Video object>"
      ]
     },
     "metadata": {},
     "output_type": "display_data"
    }
   ],
   "source": [
    "%%manim -qh -v WARNING C3_GrandChildren\n",
    "\n",
    "class C3_GrandChildren(Scene):\n",
    "    def construct(self):\n",
    "        P0 = np.array([-4,-4,0])\n",
    "        P1 = np.array([-2,-2,0])\n",
    "        P2 = np.array([0,0,0])\n",
    "        P3 = np.array([2,2,0])\n",
    "        P4 = np.array([4,4,0])\n",
    "        Q1 = np.array([-1,1,0])\n",
    "        Q2 = np.array([1,-1,0])\n",
    "        W00 = VGroup(\n",
    "            Dot(P0), Dot(P1), Dot(P2), Dot(P3), Dot(P4),\n",
    "            ArcBetweenPoints(start=P0, end=P1, angle=-PI/2),\n",
    "            ArcBetweenPoints(start=P1, end=P2, angle=-PI/2),\n",
    "            ArcBetweenPoints(start=P2, end=P3, angle=-PI/2),\n",
    "            ArcBetweenPoints(start=P3, end=P4, angle=-PI/2),\n",
    "            Tex(r'$x^4$').next_to(P2, DOWN).scale(3/2)\n",
    "        ).scale(2/3).shift(3.5*LEFT)\n",
    "        W01 = VGroup(\n",
    "            Dot(P1), Dot(Q1), Dot(Q2), Dot(P3),\n",
    "            ArcBetweenPoints(start=P1, end=Q1, angle=-PI/2),\n",
    "            ArcBetweenPoints(start=Q1, end=P3, angle=-PI/2),\n",
    "            ArcBetweenPoints(start=P1, end=Q2, angle=PI/2),\n",
    "            ArcBetweenPoints(start=Q2, end=P3, angle=PI/2),\n",
    "            Tex(r'$1-(1-x^2)^2$').move_to(P2).scale(3/2)\n",
    "        ).scale(2/3).shift(1*LEFT)\n",
    "        W10 = VGroup(\n",
    "            Dot(P1), Dot(P2), Dot(P3),\n",
    "            ArcBetweenPoints(start=P1, end=P2, angle=-PI/2),\n",
    "            ArcBetweenPoints(start=P1, end=P2, angle=PI/2),\n",
    "            ArcBetweenPoints(start=P2, end=P3, angle=-PI/2),\n",
    "            ArcBetweenPoints(start=P2, end=P3, angle=PI/2),\n",
    "            Tex(r'$(1-(1-x)^2)^2$').next_to(P1,DOWN).shift(RIGHT).scale(3/2)\n",
    "        ).scale(2/3).shift(2*RIGHT)\n",
    "        W11 = VGroup(\n",
    "            Dot(P1), Dot(P3),\n",
    "            ArcBetweenPoints(start=P1, end=P3, angle=-PI*2/3),\n",
    "            ArcBetweenPoints(start=P1, end=P3, angle=-PI/3),\n",
    "            ArcBetweenPoints(start=P1, end=P3, angle=PI/3),\n",
    "            ArcBetweenPoints(start=P1, end=P3, angle=PI*2/3),\n",
    "            Tex(r'$1-(1-x)^4$').next_to(P1,DR).scale(3/2)\n",
    "        ).scale(2/3).shift(5*RIGHT)\n",
    "        self.play(Create(W00), run_time=3)\n",
    "        self.play(Create(W01), run_time=3)\n",
    "        self.play(Create(W10), run_time=3)\n",
    "        self.play(Create(W11), run_time=3)\n",
    "        self.wait(5)\n",
    "        self.play(FadeOut(*self.mobjects), run_time=1)\n",
    "'''\n",
    "One then apply serial concatenation and parallel combination recursively\n",
    "in order to generate more complicated circuits.\n",
    "'''"
   ]
  },
  {
   "cell_type": "code",
   "execution_count": 175,
   "metadata": {},
   "outputs": [],
   "source": [
    "def rot90(arr):\n",
    "    return np.array([-arr[1], arr[0], 0])\n",
    "def draw(wires):\n",
    "    '''\n",
    "    wires = [wire1, wire2, wire3, ...]\n",
    "    wire1 = (start, end, curvature, gap)\n",
    "    Imagine each wire corresponds to an area enclosed by two arcs.\n",
    "    In other words, it looks like a biconvex lens\n",
    "    or a convex-concave but converging lens.\n",
    "    The curvature is the curvature of the axis of the lens;\n",
    "    the axis is a curve within the lens such that,\n",
    "    if you cut the lens along the axis,\n",
    "    it breaks into two lenses with the same converging ability.\n",
    "    The gap measures how strong it converges light.\n",
    "    '''\n",
    "    arcs = []\n",
    "    for P, Q, cur, gap in wires:\n",
    "        # arcs.append(Dot(P)) # this breaks the Transform anime\n",
    "        # arcs.append(Dot(Q)) # this breaks the Transform anime\n",
    "        arcs.append(ArcBetweenPoints(P, Q, cur, stroke_width=2))\n",
    "    return VGroup(*arcs)\n",
    "def parallel(wires):\n",
    "    nxt_circuit = []\n",
    "    for P, Q, cur, gap in wires:\n",
    "        nxt_circuit.append((P, Q, cur+gap/2, gap/2))\n",
    "    for P, Q, cur, gap in wires:\n",
    "        nxt_circuit.append((P, Q, cur-gap/2, gap/2))\n",
    "    return nxt_circuit\n",
    "def serial(wires):\n",
    "    nxt_circuit = []\n",
    "    for P, Q, cur, gap in wires:\n",
    "        R = (P+Q)/2 - rot90((Q-P)/2) * np.tan(cur/4)\n",
    "        nxt_circuit.append((P, R, cur/2, gap))\n",
    "    for P, Q, cur, gap in wires:\n",
    "        R = (P+Q)/2 - rot90((Q-P)/2) * np.tan(cur/4)\n",
    "        nxt_circuit.append((R, Q, cur/2, gap))\n",
    "    return nxt_circuit"
   ]
  },
  {
   "cell_type": "code",
   "execution_count": 191,
   "metadata": {},
   "outputs": [
    {
     "name": "stderr",
     "output_type": "stream",
     "text": [
      "                                                                                                                    \r"
     ]
    },
    {
     "data": {
      "text/html": [
       "<video src=\"media/jupyter/C4_SixGenerations@2022-09-19@23-43-00.mp4\" controls autoplay loop style=\"max-width: 60%;\"  >\n",
       "      Your browser does not support the <code>video</code> element.\n",
       "    </video>"
      ],
      "text/plain": [
       "<IPython.core.display.Video object>"
      ]
     },
     "metadata": {},
     "output_type": "display_data"
    }
   ],
   "source": [
    "%%manim -qh -v WARNING C4_SixGenerations\n",
    "\n",
    "class C4_SixGenerations(Scene):\n",
    "    def construct(self):\n",
    "        wire_length = 3\n",
    "        circuit_gap = 2.5\n",
    "        P0 = np.array([-1,-1, 0]) * wire_length\n",
    "        P1 = np.array([ 1, 1, 0]) * wire_length\n",
    "        W = [(P0, P1, 0, PI)]\n",
    "        Channels = [W]\n",
    "        Graphics = [draw(W)]\n",
    "        Pos_Norm = [(np.array([0,0,0]), np.array([circuit_gap ,0,0]))]\n",
    "        self.play(Create(Graphics[0]), run_time=1)\n",
    "        for depth in range(1,7):\n",
    "            nxt_Channels = []\n",
    "            nxt_Graphics = []\n",
    "            nxt_Pos_Norm = []\n",
    "            Transformers = []\n",
    "            for W in Channels:\n",
    "                W0 = serial(W)\n",
    "                G0 = draw(W0).scale(2**(-depth/2))\n",
    "                nxt_Channels.append(W0)\n",
    "                nxt_Graphics.append(G0)\n",
    "            for W in Channels:\n",
    "                W1 = parallel(W)\n",
    "                G1 = draw(W1).scale(2**(-depth/2))\n",
    "                nxt_Channels.append(W1)\n",
    "                nxt_Graphics.append(G1)\n",
    "            for i in range(len(Graphics)):\n",
    "                G = Graphics[i]\n",
    "                pos, nor = Pos_Norm[i]\n",
    "                G0 = nxt_Graphics[2*i].shift(pos-nor)\n",
    "                G1 = nxt_Graphics[2*i+1].shift(pos+nor)\n",
    "                nxt_Pos_Norm.append((pos-nor, rot90(nor)/2**0.5))\n",
    "                nxt_Pos_Norm.append((pos+nor, -rot90(nor)/2**0.5))\n",
    "                Transformers.append(ReplacementTransform(G, G0))\n",
    "                Transformers.append(ReplacementTransform(G.copy(), G1))\n",
    "            Channels = nxt_Channels\n",
    "            Graphics = nxt_Graphics\n",
    "            Pos_Norm = nxt_Pos_Norm\n",
    "            self.play(*Transformers, run_time=3)\n",
    "        self.wait(5)\n",
    "'''\n",
    "Here is a long animation that shows the first six generations of the circuits.\n",
    "'''"
   ]
  },
  {
   "cell_type": "code",
   "execution_count": 177,
   "metadata": {},
   "outputs": [
    {
     "name": "stderr",
     "output_type": "stream",
     "text": [
      "                                                                                                                                  \r"
     ]
    },
    {
     "data": {
      "text/html": [
       "<video src=\"media/jupyter/C5_Polarization@2022-09-19@23-14-10.mp4\" controls autoplay loop style=\"max-width: 60%;\"  >\n",
       "      Your browser does not support the <code>video</code> element.\n",
       "    </video>"
      ],
      "text/plain": [
       "<IPython.core.display.Video object>"
      ]
     },
     "metadata": {},
     "output_type": "display_data"
    }
   ],
   "source": [
    "%%manim -qh -v WARNING C5_Polarization\n",
    "\n",
    "class C5_Polarization(Scene):\n",
    "    def construct(self):\n",
    "        wire_length = 3\n",
    "        circuit_gap = 2.5\n",
    "        P0 = np.array([-1,-1, 0]) * wire_length\n",
    "        P1 = np.array([ 1, 1, 0]) * wire_length\n",
    "        W = [(P0, P1, 0, PI)]\n",
    "        Channels = [W]\n",
    "        Connects = [0.5]\n",
    "        Pos_Norm = [(np.array([0,0,0]), np.array([circuit_gap ,0,0]))]\n",
    "        for depth in range(1,7):\n",
    "            nxt_Channels = []\n",
    "            nxt_Connects = []\n",
    "            nxt_Pos_Norm = []\n",
    "            for W in Channels:\n",
    "                W0 = serial(W)\n",
    "                nxt_Channels.append(W0)\n",
    "            for W in Channels:\n",
    "                W1 = parallel(W)\n",
    "                nxt_Channels.append(W1)\n",
    "            for i in range(len(Pos_Norm)):\n",
    "                con = Connects[i]\n",
    "                pos, nor = Pos_Norm[i]\n",
    "                nxt_Connects.append(con**2)\n",
    "                nxt_Connects.append(1-(1-con)**2)\n",
    "                nxt_Pos_Norm.append((pos-nor, rot90(nor)/2**0.5))\n",
    "                nxt_Pos_Norm.append((pos+nor, -rot90(nor)/2**0.5))\n",
    "            Channels = nxt_Channels\n",
    "            Connects = nxt_Connects\n",
    "            Pos_Norm = nxt_Pos_Norm\n",
    "        Graphics = []\n",
    "        for i in range(len(Channels)):\n",
    "            W = Channels[i]\n",
    "            con = Connects[i]\n",
    "            pos, nor = Pos_Norm[i]\n",
    "            Graphics.append(draw(W).shift(pos).scale(2**(-6/2)))\n",
    "        self.add(*Graphics)\n",
    "        x_is_half = Tex(r'Suppose $x = 1/2$').shift(3.7*UP)\n",
    "        sort_by_I = Tex(r'$0\\leftarrow$ sort by connection probability $\\to1$')\n",
    "        sort_by_I.shift(3.7*DOWN)\n",
    "        self.play(FadeIn(x_is_half), run_time=1)\n",
    "        self.play(FadeIn(sort_by_I), run_time=1)\n",
    "        Transformers = []\n",
    "        for i in range(len(Graphics)):\n",
    "            con = Connects[i]\n",
    "            pos, nor = Pos_Norm[i]\n",
    "            G = Graphics[i]\n",
    "            Transformers.append(G.animate.move_to([(con*2-1)*6, pos[1], 0]))\n",
    "            # path = Line(pos, [(con*2-1)*6, (pos[1]+pos[0]/5.656), 0])\n",
    "            # Transformers.append(MoveAlongPath(G, path))\n",
    "        self.play(AnimationGroup(*Transformers, run_time=15, lag_ratio=.2))\n",
    "        self.wait(10)\n",
    "'''\n",
    "Suppose that each small wire has connection probability 1/2.\n",
    "We can sort these circuits using their connection probabilities.\n",
    "\n",
    "As you can see, most circuits moves to the either side of the screen.\n",
    "This is called *polarization*.\n",
    "A user of polar code will use circuits with high connection probabilities\n",
    "to transmit information.\n",
    "'''"
   ]
  },
  {
   "cell_type": "code",
   "execution_count": 178,
   "metadata": {},
   "outputs": [
    {
     "name": "stderr",
     "output_type": "stream",
     "text": [
      "                                                                                                                        \r"
     ]
    },
    {
     "data": {
      "text/html": [
       "<video src=\"media/jupyter/C6_EigenFunction@2022-09-19@23-28-35.mp4\" controls autoplay loop style=\"max-width: 60%;\"  >\n",
       "      Your browser does not support the <code>video</code> element.\n",
       "    </video>"
      ],
      "text/plain": [
       "<IPython.core.display.Video object>"
      ]
     },
     "metadata": {},
     "output_type": "display_data"
    }
   ],
   "source": [
    "%%manim -qh -v WARNING C6_EigenFunction\n",
    "\n",
    "class C6_EigenFunction(Scene):\n",
    "    def construct(self):\n",
    "        wire_length = 3\n",
    "        circuit_gap = 2.5\n",
    "        P0 = np.array([-1,-1, 0]) * wire_length\n",
    "        P1 = np.array([ 1, 1, 0]) * wire_length\n",
    "        W = [(P0, P1, 0, PI)]\n",
    "        Channels = [W]\n",
    "        Connects = [0.5]\n",
    "        Pos_Norm = [(np.array([0,0,0]), np.array([circuit_gap ,0,0]))]\n",
    "        for depth in range(1,7):\n",
    "            nxt_Channels = []\n",
    "            nxt_Connects = []\n",
    "            nxt_Pos_Norm = []\n",
    "            for W in Channels:\n",
    "                W0 = serial(W)\n",
    "                nxt_Channels.append(W0)\n",
    "            for W in Channels:\n",
    "                W1 = parallel(W)\n",
    "                nxt_Channels.append(W1)\n",
    "            for i in range(len(Connects)):\n",
    "                con = Connects[i]\n",
    "                pos, nor = Pos_Norm[i]\n",
    "                nxt_Connects.append(con**2)\n",
    "                nxt_Connects.append(1-(1-con)**2)\n",
    "                nxt_Pos_Norm.append((pos-nor, rot90(nor)/2**0.5))\n",
    "                nxt_Pos_Norm.append((pos+nor, -rot90(nor)/2**0.5))\n",
    "            Channels = nxt_Channels\n",
    "            Connects = nxt_Connects\n",
    "            Pos_Norm = nxt_Pos_Norm\n",
    "        Graphics = []\n",
    "        for i in range(len(Channels)):\n",
    "            W = Channels[i]\n",
    "            con = Connects[i]\n",
    "            pos, nor = Pos_Norm[i]\n",
    "            pos = [(con*2-1)*6, pos[1], 0]\n",
    "            Graphics.append(draw(W).shift(pos).scale(2**(-6/2)))\n",
    "        self.add(*Graphics)\n",
    "        x_is_half = Tex(r'Suppose $x = 1/2$').shift(3.7*UP)\n",
    "        sort_by_I = Tex(r'$0\\leftarrow$ sort by connection probability $\\to1$')\n",
    "        sort_by_I.shift(3.7*DOWN)\n",
    "        pol_score = Tex(r'$0 \\leftarrow$ polarization score $\\to 1$')\n",
    "        pol_score.shift(6.7*LEFT).rotate(PI/2)\n",
    "        self.add(x_is_half)\n",
    "        self.add(sort_by_I)\n",
    "        self.play(FadeIn(pol_score))\n",
    "        Transformers = []\n",
    "        for i in range(len(Graphics)):\n",
    "            con = Connects[i]\n",
    "            pos = [(con*2-1)*6, 16 * (con*(1-con))**0.7 - 3, 0]\n",
    "            G = Graphics[i]\n",
    "            Transformers.append(G.animate.move_to(pos))\n",
    "        self.play(AnimationGroup(*Transformers, run_time=15, lag_ratio=.2))\n",
    "        self.wait(10)\n",
    "        self.play(FadeOut(*self.mobjects), run_time=1)\n",
    "'''\n",
    "To measure the extent of polarization,\n",
    "we assign each circuit a *polarization score*.\n",
    "The lower the score, the closer the circuit is to the sides of the screen.\n",
    "\n",
    "Therefore, by adding together the scores of all circuits,\n",
    "we can obtain an overall measurement of polarization.\n",
    "This measurement is how we can estimate the scaling exponent of polar code.\n",
    "'''"
   ]
  },
  {
   "cell_type": "code",
   "execution_count": 179,
   "metadata": {},
   "outputs": [
    {
     "name": "stderr",
     "output_type": "stream",
     "text": [
      "                                                                                                                                                                                                                                                                                                                          \r"
     ]
    },
    {
     "data": {
      "text/html": [
       "<video src=\"media/jupyter/C7_EigenValue@2022-09-19@23-29-22.mp4\" controls autoplay loop style=\"max-width: 60%;\"  >\n",
       "      Your browser does not support the <code>video</code> element.\n",
       "    </video>"
      ],
      "text/plain": [
       "<IPython.core.display.Video object>"
      ]
     },
     "metadata": {},
     "output_type": "display_data"
    }
   ],
   "source": [
    "%%manim -qh -v WARNING C7_EigenValue\n",
    "\n",
    "class C7_EigenValue(Scene):\n",
    "    def construct(self):\n",
    "        quotient = Tex(\n",
    "            r'\\def\\Score{\\text{Score}}'\n",
    "            r'\\def\\parallel{\\text{parallel}}'\n",
    "            r'\\def\\serial{\\text{serial}}'\n",
    "            r'\\def\\original{\\text{original wire}}'\n",
    "            r'$\\frac{\\Score(\\parallel) + \\Score(\\serial)}'\n",
    "            r'{2 \\cdot \\Score(\\original)} \\approx 2^{-1/\\mu}$'\n",
    "        ).scale(2)\n",
    "        self.play(Write(quotient), run_time=15)\n",
    "        self.play(quotient.animate.shift(3*DOWN).scale(2/3))\n",
    "        self.wait(2)\n",
    "        self.play(FadeOut(*self.mobjects), run_time=1)\n",
    "'''\n",
    "To see the relation, suppose that the score function satisfies that\n",
    "the score of the parallel plus the score of the serial\n",
    "divided by twice the score of the original wire is 2 ^ {-1/\\mu}.\n",
    "'''"
   ]
  },
  {
   "cell_type": "code",
   "execution_count": 180,
   "metadata": {},
   "outputs": [
    {
     "name": "stderr",
     "output_type": "stream",
     "text": [
      "                                                                                                                  \r"
     ]
    },
    {
     "data": {
      "text/html": [
       "<video src=\"media/jupyter/C8_JensenIneq@2022-09-19@23-31-33.mp4\" controls autoplay loop style=\"max-width: 60%;\"  >\n",
       "      Your browser does not support the <code>video</code> element.\n",
       "    </video>"
      ],
      "text/plain": [
       "<IPython.core.display.Video object>"
      ]
     },
     "metadata": {},
     "output_type": "display_data"
    }
   ],
   "source": [
    "%%manim -qh -v WARNING C8_JensenIneq\n",
    "\n",
    "def base(con):\n",
    "    pos = [(con*2-1)*6, -3, 0]\n",
    "    return np.array(pos)\n",
    "def score(con):\n",
    "    pos = [(con*2-1)*6, 16 * (con*(1-con))**0.7 - 3, 0]\n",
    "    return np.array(pos)\n",
    "\n",
    "class C8_JensenIneq(Scene):\n",
    "    def construct(self):\n",
    "        quotient = Tex(\n",
    "            r'\\def\\Score{\\text{Score}}'\n",
    "            r'\\def\\parallel{\\text{parallel}}'\n",
    "            r'\\def\\serial{\\text{serial}}'\n",
    "            r'\\def\\original{\\text{original wire}}'\n",
    "            r'$\\frac{\\Score(\\parallel) + \\Score(\\serial)}'\n",
    "            r'{2 \\cdot \\Score(\\original)} \\approx 2^{-1/\\mu}$'\n",
    "        ).scale(2).shift(3*DOWN).scale(2/3)\n",
    "        chebyshev = np.cos(np.linspace(0, PI, 100))/2 + 1/2\n",
    "        zipc = zip(chebyshev[:-1], chebyshev[1:])\n",
    "        curve = [Line(score(x), score(y)) for (x,y) in zipc]\n",
    "        vt = ValueTracker(.5)\n",
    "        gv = vt.get_value\n",
    "        H = Dot().scale(2).shift(base(gv()));           H.gc = H.get_center\n",
    "        W = Dot(color=BLUE).scale(2).shift(score(gv()));W.gc = W.get_center\n",
    "        W0 = Dot().scale(2).shift(score(gv()**2));      W0.gc = W0.get_center\n",
    "        W1 = Dot().scale(2).shift(score(1-(1-gv())**2));W1.gc = W1.get_center\n",
    "        Wtxt = Tex(r'$x$').next_to(W,UP)\n",
    "        W0txt = Tex(r'$x^2$').next_to(W0,UP)\n",
    "        W1txt = Tex(r'$1-(1-x)^2$').next_to(W1,UP)\n",
    "        mid = Dot(color=GREEN).scale(2).shift((W0.gc()+W1.gc())/2);\n",
    "        mid.gc = mid.get_center\n",
    "        H.add_updater(lambda mob: mob.move_to(base(gv())))\n",
    "        W.add_updater(lambda mob: mob.move_to(score(gv())))\n",
    "        W0.add_updater(lambda mob: mob.move_to(score(gv()**2)))\n",
    "        W1.add_updater(lambda mob: mob.move_to(score(1-(1-gv())**2)))\n",
    "        Wtxt.add_updater(lambda mob: mob.next_to(W, UP))\n",
    "        W0txt.add_updater(lambda mob: mob.next_to(W0, UP))\n",
    "        W1txt.add_updater(lambda mob: mob.next_to(W1, UP))\n",
    "        mid.add_updater(lambda mob:mob.move_to(W0.gc()/2+W1.gc()/2))\n",
    "        sec = always_redraw(lambda: DashedLine(W0.gc(),W1.gc()))\n",
    "        tall = always_redraw(lambda: ArcBetweenPoints(H.gc(), W.gc(), -PI/10))\n",
    "        short = always_redraw(lambda: ArcBetweenPoints(H.gc(), mid.gc(), PI/10))\n",
    "        conclude = Tex(r'This implies scaling exponent $\\mu$').shift(2*DOWN)\n",
    "        self.add(quotient)\n",
    "        self.play(FadeIn(*curve), run_time=2)\n",
    "        self.play(FadeIn(W, Wtxt, run_time=2))\n",
    "        self.wait(2)\n",
    "        self.play(FadeIn(W0, W0txt, run_time=2))\n",
    "        self.wait(2)\n",
    "        self.play(FadeIn(W1, W1txt, run_time=2))\n",
    "        self.wait(2)\n",
    "        self.play(FadeIn(mid, sec, run_time=2))\n",
    "        self.wait(2)\n",
    "        self.play(FadeIn(H, tall, short, run_time=2))\n",
    "        self.wait(2)\n",
    "        self.play(vt.animate.set_value(.4), run_time=3)\n",
    "        self.play(vt.animate.set_value(.7), run_time=3)\n",
    "        self.play(vt.animate.set_value(.2), run_time=3)\n",
    "        self.play(vt.animate.set_value(.9), run_time=3)\n",
    "        self.play(FadeIn(conclude))\n",
    "        self.wait(10)\n",
    "        self.play(FadeOut(*self.mobjects), run_time=1)\n",
    "'''\n",
    "We can visualize this quotient as follows:\n",
    "Pick a point on the score curve,\n",
    "find the serial point and its score,\n",
    "find the parallel point and its score,\n",
    "and then find the mid point.\n",
    "The quotient is the ratio between the heights\n",
    "of the green and blue dots.\n",
    "\n",
    "That will imply that the scaling exponent of polar code is mu.\n",
    "This approach, using the score function,\n",
    "is the standard tool to study polar code.\n",
    "And we also follow this path.\n",
    "'''"
   ]
  },
  {
   "cell_type": "markdown",
   "metadata": {},
   "source": [
    "# Section D: Tetrahedron Case"
   ]
  },
  {
   "cell_type": "code",
   "execution_count": 181,
   "metadata": {},
   "outputs": [
    {
     "name": "stderr",
     "output_type": "stream",
     "text": [
      "                                                                                                                  \r"
     ]
    },
    {
     "data": {
      "text/html": [
       "<video src=\"media/jupyter/D1_TetraErasure@2022-09-19@23-31-44.mp4\" controls autoplay loop style=\"max-width: 60%;\"  >\n",
       "      Your browser does not support the <code>video</code> element.\n",
       "    </video>"
      ],
      "text/plain": [
       "<IPython.core.display.Video object>"
      ]
     },
     "metadata": {},
     "output_type": "display_data"
    }
   ],
   "source": [
    "%%manim -qh -v WARNING D1_TetraErasure\n",
    "\n",
    "class D1_TetraErasure(Scene):\n",
    "    def construct(self):\n",
    "        TEC       = Text('[New!] Tetrahedral Erasure Channel (TEC)').shift(3*UP)\n",
    "        input     = Matrix([['u'], ['v']], v_buff=1).scale(2).shift(3*LEFT)\n",
    "        inputtxt  = Tex(r'Input is a vector $(u, v) \\in \\mathbb F_2^2$')\n",
    "        inputtxt  . shift(3*DOWN)\n",
    "        output    = Matrix([['u'], ['u+v'], ['v']], v_buff=0.5,\n",
    "                       element_alignment_corner=[0,0,0]).scale(2).shift(3*RIGHT)\n",
    "        outputtxt = Tex(r'Output is a vector $(u, u+v, v) \\in \\mathbb F_2^3$')\n",
    "        outputtxt . shift(3*DOWN)\n",
    "        arr       = Arrow(start=input.get_right(), end=output.get_left())\n",
    "        onlyu     = Matrix([['u'], ['?'], ['?']], v_buff=0.5,\n",
    "                       element_alignment_corner=[0,0,0]).scale(2).shift(3*RIGHT)\n",
    "        onlysum   = Matrix([['?'], ['u+v'], ['?']], v_buff=0.5,\n",
    "                       element_alignment_corner=[0,0,0]).scale(2).shift(3*RIGHT)\n",
    "        onlyv     = Matrix([['?'], ['?'], ['v']], v_buff=0.5,\n",
    "                       element_alignment_corner=[0,0,0]).scale(2).shift(3*RIGHT)\n",
    "        nothing   = Matrix([['?'], ['?'], ['?']], v_buff=0.5,\n",
    "                       element_alignment_corner=[0,0,0]).scale(2).shift(3*RIGHT)\n",
    "        onlyutxt  = Tex(r'Sometimes, $v$ is erased').shift(3*DOWN)\n",
    "        onlysumtxt= Tex(r'Sometimes, only $u+v$ is kept').shift(3*DOWN)\n",
    "        onlyvtxt  = Tex(r'Sometimes, $u$ is erased').shift(3*DOWN)\n",
    "        nothingtxt= Tex(r'Sometimes, nothing left').shift(3*DOWN)\n",
    "        self.play(FadeIn(TEC), run_time=1)\n",
    "        self.wait(3)\n",
    "        self.play(Create(input), FadeIn(inputtxt), run_time=1)\n",
    "        self.wait(3)\n",
    "        self.play(FadeOut(inputtxt), run_time=1)\n",
    "        self.play(Create(output), FadeIn(outputtxt), FadeIn(arr), run_time=1)\n",
    "        self.wait(3)\n",
    "        self.play(Transform(output, onlyu),\n",
    "                  Transform(outputtxt, onlyutxt), run_time=1)\n",
    "        self.wait(3)\n",
    "        self.play(Transform(output, onlysum),\n",
    "                  Transform(outputtxt, onlysumtxt), run_time=1)\n",
    "        self.wait(3)\n",
    "        self.play(Transform(output, onlyv),\n",
    "                  Transform(outputtxt, onlyvtxt), run_time=1)\n",
    "        self.wait(3)\n",
    "        self.play(Transform(output, nothing),\n",
    "                  Transform(outputtxt, nothingtxt), run_time=1)\n",
    "        self.wait(3)\n",
    "        self.play(FadeOut(*self.mobjects), run_time=1)\n",
    "'''\n",
    "Now allow me to introduce tetrahedral erasure channel.\n",
    "\n",
    "The input of a TEC is a pair of bits.\n",
    "The output of a TEC is a triple of bits.\n",
    "\n",
    "But sometimes, only u survives the erasure.\n",
    "Sometimes, only u+v survives the erasure.\n",
    "Sometimes, only v survives the erasure.\n",
    "And the worst of all, sometimes, nothing survives.\n",
    "'''"
   ]
  },
  {
   "cell_type": "code",
   "execution_count": 182,
   "metadata": {},
   "outputs": [
    {
     "name": "stderr",
     "output_type": "stream",
     "text": [
      "                                                                                                       \r"
     ]
    },
    {
     "data": {
      "text/html": [
       "<video src=\"media/jupyter/D2_TetraAnalog@2022-09-19@23-33-41.mp4\" controls autoplay loop style=\"max-width: 60%;\"  >\n",
       "      Your browser does not support the <code>video</code> element.\n",
       "    </video>"
      ],
      "text/plain": [
       "<IPython.core.display.Video object>"
      ]
     },
     "metadata": {},
     "output_type": "display_data"
    }
   ],
   "source": [
    "%%manim -qh -v WARNING D2_TetraAnalog\n",
    "\n",
    "class D2_TetraAnalog(Scene):\n",
    "    def construct(self):\n",
    "        where = Text('Where is the Tetrahedron?').shift(3*UP)\n",
    "        dottxt = Tex('Each $(u, v)$ corresponds to a vertex in space')\n",
    "        dottxt . shift(3*DOWN)\n",
    "        edgeu__txt = Tex('Each $(u, ?, ?)$ corresponds to an edge '\n",
    "                         'perpendicular to $x$-axis').shift(3*DOWN)\n",
    "        edge_w_txt = Tex('Each $(?, u+v, ?)$ corresponds to an edge '\n",
    "                         'perpendicular to $y$-axis').shift(3*DOWN)\n",
    "        edge__vtxt = Tex('Each $(?, ?, v)$ corresponds to an edge '\n",
    "                         'perpendicular to $z$-axis').shift(3*DOWN)\n",
    "        celltxt = Tex('$(?, ?, ?)$ corresponds to the tetrahedron itself')\n",
    "        celltxt.shift(3*DOWN)\n",
    "        self.play(FadeIn(where), run_time=1)\n",
    "        self.wait(2)\n",
    "        vt = ValueTracker(2.00)\n",
    "        gv = vt.get_value\n",
    "        iv = vt.animate(rate_func=linear).increment_value\n",
    "        # VT = always_redraw(lambda: Text(str(int(gv()*100))).shift([-6,-2,0]))\n",
    "        # self.add(VT)\n",
    "        def rot(vec3):\n",
    "            theta = gv()\n",
    "            phi = gv() / 4.56\n",
    "            x, y = np.cos(theta), np.sin(theta)\n",
    "            c, s = np.cos(phi), np.sin(phi)\n",
    "            R3 = np.array([\n",
    "                [ x,y*s,y*c],\n",
    "                [-y,x*s,x*c],\n",
    "                [ 0,  c, -s],\n",
    "            ])\n",
    "            vec2 = vec3 @ R3\n",
    "            return vec2[0]*3/2\n",
    "        p00 = np.array([[-1,-1,-1]])\n",
    "        p01 = np.array([[-1, 1, 1]])\n",
    "        p10 = np.array([[ 1, 1,-1]])\n",
    "        p11 = np.array([[ 1,-1, 1]])\n",
    "        ar = always_redraw\n",
    "\n",
    "        gv1 = gv()\n",
    "        def o1(): return gv() - gv1\n",
    "        dot00 = ar(lambda: Dot(rot(p00)).set_opacity(o1()))\n",
    "        dot01 = ar(lambda: Dot(rot(p01)).set_opacity(o1()))\n",
    "        dot10 = ar(lambda: Dot(rot(p10)).set_opacity(o1()))\n",
    "        dot11 = ar(lambda: Dot(rot(p11)).set_opacity(o1()))\n",
    "        self.add(dot00, dot01, dot10, dot11)\n",
    "        self.play(iv(1), FadeIn(dottxt), run_time=1)\n",
    "        self.play(iv(4), run_time=4)\n",
    "        self.play(iv(1), FadeOut(dottxt), run_time=1)\n",
    "\n",
    "        gv2 = gv()\n",
    "        def o2(): return gv() - gv2\n",
    "        edge0__ = ar(lambda: Line(rot(p00), rot(p01)).set_opacity(o2()))\n",
    "        edge1__ = ar(lambda: Line(rot(p10), rot(p11)).set_opacity(o2()))\n",
    "        self.add(edge0__, edge1__)\n",
    "        self.play(iv(1), FadeIn(edgeu__txt), run_time=1)\n",
    "        self.play(iv(4), run_time=4)\n",
    "        self.play(iv(1), FadeOut(edgeu__txt), run_time=1)\n",
    "\n",
    "        gv3 = gv()\n",
    "        def o3(): return gv() - gv3\n",
    "        edge_0_ = ar(lambda: Line(rot(p00), rot(p11)).set_opacity(o3()))\n",
    "        edge_1_ = ar(lambda: Line(rot(p10), rot(p01)).set_opacity(o3()))\n",
    "        self.add(edge_0_, edge_1_)\n",
    "        self.play(iv(1), FadeIn(edge_w_txt), run_time=1)\n",
    "        self.play(iv(4), run_time=4)\n",
    "        self.play(iv(1), FadeOut(edge_w_txt), run_time=1)\n",
    "\n",
    "        gv4 = gv()\n",
    "        def o4(): return gv() - gv4\n",
    "        edge__0 = ar(lambda: Line(rot(p00), rot(p10)).set_opacity(o4()))\n",
    "        edge__1 = ar(lambda: Line(rot(p01), rot(p11)).set_opacity(o4()))\n",
    "        self.add(edge__0, edge__1)\n",
    "        self.play(iv(1), FadeIn(edge__vtxt), run_time=1)\n",
    "        self.play(iv(4), run_time=4)\n",
    "        self.play(iv(1), FadeOut(edge__vtxt), run_time=1)\n",
    "\n",
    "        gv5 = gv()\n",
    "        def o5():\n",
    "            dif = gv()-gv5\n",
    "            return min(dif, 1)\n",
    "        face0 = ar(lambda:Polygon(rot(p01),rot(p10),rot(p11))\\\n",
    "            .set_fill(WHITE,opacity=o5()/3).set_stroke(WHITE,opacity=o5()))\n",
    "        face1 = ar(lambda:Polygon(rot(p00),rot(p10),rot(p11))\\\n",
    "            .set_fill(WHITE,opacity=o5()/3).set_stroke(WHITE,opacity=o5()))\n",
    "        face2 = ar(lambda:Polygon(rot(p00),rot(p01),rot(p11))\\\n",
    "            .set_fill(WHITE,opacity=o5()/3).set_stroke(WHITE,opacity=o5()))\n",
    "        face3 = ar(lambda:Polygon(rot(p00),rot(p01),rot(p10))\\\n",
    "            .set_fill(WHITE,opacity=o5()/3).set_stroke(WHITE,opacity=o5()))\n",
    "        self.add(face0, face1, face2, face3)\n",
    "        self.play(iv(1), FadeIn(celltxt), run_time=1)\n",
    "        self.play(iv(4), run_time=4)\n",
    "        self.play(iv(1), FadeOut(celltxt), run_time=1)\n",
    "        \n",
    "        self.play(iv(5), run_time=5)\n",
    "\n",
    "        mask = Square().scale(10).set_fill(BLACK, opacity=1)\n",
    "        self.play(iv(1), FadeIn(mask), run_time=1)\n",
    "'''\n",
    "So where is the tetrahedron... you may ask.\n",
    "\n",
    "Well the input corresponds to the vertices of a tetrahedron.\n",
    "\n",
    "This erasure pattern corresponds to a pair of edges.\n",
    "\n",
    "This erasure pattern corresponds to another pair of edges.\n",
    "\n",
    "This erasure pattern corresponds to the third pair of edges.\n",
    "\n",
    "And the worst erasure pattern corresponds to the tetrahedron body.\n",
    "\n",
    "'''"
   ]
  },
  {
   "cell_type": "code",
   "execution_count": 183,
   "metadata": {},
   "outputs": [
    {
     "name": "stderr",
     "output_type": "stream",
     "text": [
      "                                                                                                              \r"
     ]
    },
    {
     "data": {
      "text/html": [
       "<video src=\"media/jupyter/D3_SubspaceMass@2022-09-19@23-34-36.mp4\" controls autoplay loop style=\"max-width: 60%;\"  >\n",
       "      Your browser does not support the <code>video</code> element.\n",
       "    </video>"
      ],
      "text/plain": [
       "<IPython.core.display.Video object>"
      ]
     },
     "metadata": {},
     "output_type": "display_data"
    }
   ],
   "source": [
    "%%manim -qh -v WARNING D3_SubspaceMass\n",
    "\n",
    "class D3_SubspaceMass(ThreeDScene):\n",
    "    def construct(self):\n",
    "        TEC = Tex(r'Let TEC$(p, q, r, s, t)$ be a tetrahedral erasure channel\\\\'\n",
    "                   'with the following erasure patterns:').shift(2.5*UP)\n",
    "        probp = Tex(r'$p$: probability of $(u, u+v, v)$').shift(1*UP)\n",
    "        probq = Tex(r'$q$: probability of $(u, ?, ?)$').shift(0*UP)\n",
    "        probr = Tex(r'$r$: probability of $(?, u+v, ?)$').shift(1*DOWN)\n",
    "        probs = Tex(r'$s$: probability of $(?, ?, v)$').shift(2*DOWN)\n",
    "        probt = Tex(r'$t$: probability of $(?, ?, ?)$').shift(3*DOWN)\n",
    "        self.play(FadeIn(TEC), run_time=1)\n",
    "        self.wait(2)\n",
    "        self.play(Create(probp), run_time=3)\n",
    "        self.play(Create(probq), run_time=3)\n",
    "        self.play(Create(probr), run_time=3)\n",
    "        self.play(Create(probs), run_time=3)\n",
    "        self.play(Create(probt), run_time=3)\n",
    "        self.wait(5)\n",
    "        self.play(FadeOut(*self.mobjects), run_time=1)\n",
    "'''\n",
    "We let TEC(p, q, r, s, t) be a tetrahedral erasure channel\n",
    "where each lower letter corresponds to the probability of an erasure pattern.\n",
    "'''"
   ]
  },
  {
   "cell_type": "code",
   "execution_count": 184,
   "metadata": {},
   "outputs": [
    {
     "name": "stderr",
     "output_type": "stream",
     "text": [
      "                                                                                                                \r"
     ]
    },
    {
     "data": {
      "text/html": [
       "<video src=\"media/jupyter/D4_TetraTransform@2022-09-19@23-35-38.mp4\" controls autoplay loop style=\"max-width: 60%;\"  >\n",
       "      Your browser does not support the <code>video</code> element.\n",
       "    </video>"
      ],
      "text/plain": [
       "<IPython.core.display.Video object>"
      ]
     },
     "metadata": {},
     "output_type": "display_data"
    }
   ],
   "source": [
    "%%manim -qh -v WARNING D4_TetraTransform\n",
    "\n",
    "class D4_TetraTransform(ThreeDScene):\n",
    "    def construct(self):\n",
    "        title = Tex(r'[Bear with Me!] Parallel and Serial').shift(3.5*UP)\n",
    "        serial0 = MathTex(r'\\text{TEC}(p,q,r,s,t)^\\text{ser} := \\text{TEC}(')\n",
    "        serial1 = MathTex(r'p^2,')\n",
    "        serial2 = MathTex(r'p{{q}} + {{q}}q + qp,');\n",
    "        serial3 = MathTex(r'p{{r}} + {{r}}r + rp,');\n",
    "        serial4 = MathTex(r'p{{s}} + {{s}}s + sp,');\n",
    "        serial5 = MathTex(r'1 - \\text{the other four terms})')\n",
    "        serial0.shift(2.5*UP+4*LEFT)\n",
    "        serial1.next_to(serial0, direction=RIGHT)\n",
    "        serial2.next_to(serial1, direction=DOWN).align_to(serial1, LEFT)\n",
    "        serial3.next_to(serial2, direction=DOWN).align_to(serial2, LEFT)\n",
    "        serial4.next_to(serial3, direction=DOWN).align_to(serial3, LEFT)\n",
    "        serial5.next_to(serial4, direction=DOWN).align_to(serial4, LEFT)\n",
    "        serial = VGroup(serial0, serial1, serial2, serial3, serial4, serial5)\n",
    "        parall0 = MathTex(r'\\text{TEC}(p,q,r,s,t)^\\text{par} := \\text{TEC}(')\n",
    "        parall1 = MathTex(r'1 - \\text{the other four terms},')\n",
    "        parall2 = MathTex(r't{{q}} + {{q}}q + qt,',);\n",
    "        parall3 = MathTex(r't{{r}} + {{r}}r + rt,',);\n",
    "        parall4 = MathTex(r't{{s}} + {{s}}s + st,',);\n",
    "        parall5 = MathTex(r't^2)')\n",
    "        parall0.shift(1*DOWN+4*LEFT)\n",
    "        parall1.next_to(parall0, direction=RIGHT)\n",
    "        parall2.next_to(parall1, direction=DOWN).align_to(parall1, LEFT)\n",
    "        parall3.next_to(parall2, direction=DOWN).align_to(parall2, LEFT)\n",
    "        parall4.next_to(parall3, direction=DOWN).align_to(parall3, LEFT)\n",
    "        parall5.next_to(parall4, direction=DOWN).align_to(parall4, LEFT)\n",
    "        parall = VGroup(parall0, parall1, parall2, parall3, parall4, parall5)\n",
    "        self.play(FadeIn(title), run_time=1)\n",
    "        self.play(Create(serial), run_time=5)\n",
    "        self.play(Create(parall), run_time=5)\n",
    "        self.wait(5)\n",
    "        self.add(serial, parall)\n",
    "        serialold = serial\n",
    "        parallold = parall\n",
    "        serial22 = MathTex(r'p{{s}} + {{s}}q + qp,', tex_to_color_map={'s':RED})\n",
    "        serial33 = MathTex(r'p{{q}} + {{q}}r + rp,', tex_to_color_map={'q':RED})\n",
    "        serial44 = MathTex(r'p{{r}} + {{r}}s + sp,', tex_to_color_map={'r':RED})\n",
    "        serial22.move_to(serial2)\n",
    "        serial33.move_to(serial3)\n",
    "        serial44.move_to(serial4)\n",
    "        parall22 = MathTex(r't{{s}} + {{s}}q + qt,', tex_to_color_map={'s':RED})\n",
    "        parall33 = MathTex(r't{{q}} + {{q}}r + rt,', tex_to_color_map={'q':RED})\n",
    "        parall44 = MathTex(r't{{r}} + {{r}}s + st,', tex_to_color_map={'r':RED})\n",
    "        parall22.move_to(parall2)\n",
    "        parall33.move_to(parall3)\n",
    "        parall44.move_to(parall4)\n",
    "        self.play(TransformMatchingTex(serial2, serial22), run_time=1)\n",
    "        self.play(TransformMatchingTex(serial3, serial33), run_time=1)\n",
    "        self.play(TransformMatchingTex(serial4, serial44), run_time=1)\n",
    "        self.play(TransformMatchingTex(parall2, parall22), run_time=1)\n",
    "        self.play(TransformMatchingTex(parall3, parall33), run_time=1)\n",
    "        self.play(TransformMatchingTex(parall4, parall44), run_time=1)\n",
    "        self.wait(5)\n",
    "        self.play(FadeOut(*self.mobjects), run_time=1)\n",
    "'''\n",
    "Next, we want to generalize serial concatenation and parallel combination\n",
    "to tetrahedral erasure channel.\n",
    "What you see now is the naive version.\n",
    "\n",
    "We then make a little tweak to incorporate finite field arithmetic.\n",
    "You can barely see any changes.\n",
    "But that is what it takes to improve polar code.\n",
    "'''"
   ]
  },
  {
   "cell_type": "markdown",
   "metadata": {},
   "source": [
    "# Section E: Tetra-chnique"
   ]
  },
  {
   "cell_type": "code",
   "execution_count": 192,
   "metadata": {},
   "outputs": [
    {
     "name": "stderr",
     "output_type": "stream",
     "text": [
      "                                                                                                                                                                               \r"
     ]
    },
    {
     "data": {
      "text/html": [
       "<video src=\"media/jupyter/E1_NestingProperty@2022-09-19@23-43-36.mp4\" controls autoplay loop style=\"max-width: 60%;\"  >\n",
       "      Your browser does not support the <code>video</code> element.\n",
       "    </video>"
      ],
      "text/plain": [
       "<IPython.core.display.Video object>"
      ]
     },
     "metadata": {},
     "output_type": "display_data"
    }
   ],
   "source": [
    "%%manim -qh -v WARNING E1_NestingProperty\n",
    "\n",
    "class E1_NestingProperty(ThreeDScene):\n",
    "    def construct(self):\n",
    "        pairBECs = Tex(r'A pair of BEC$(x)$ can be seen as \\\\'\n",
    "                       r'TEC$((1-x)^2, x(1-x), 0, x(1-x), x^2)$').shift(2*UP)\n",
    "        balanced = Tex(r'TEC$(p, q, r, s, t)$ is called balanced if $q=r=s$',\n",
    "                       tex_to_color_map={'balanced':TEAL}).shift(0*UP)\n",
    "        edgeheav = Tex(r'TEC$(p, r, r, r, t)$ is called edge-heavy if \\\\'\n",
    "                       r\"$r$ is ``large enough'' compared to $p$ and $t$\",\n",
    "                       tex_to_color_map={'edge-heavy':TEAL}).shift(-2*UP)\n",
    "        self.play(FadeIn(pairBECs), run_time=2)\n",
    "        self.wait(10)\n",
    "        self.play(FadeIn(balanced), run_time=2)\n",
    "        self.wait(10)\n",
    "        self.play(FadeIn(edgeheav), run_time=2)\n",
    "        self.wait(10)\n",
    "        self.play(FadeOut(*self.mobjects), run_time=1)\n",
    "'''\n",
    "Following that, we highlight some properties of TEC that will be used later.\n",
    "\n",
    "Firstly,  A pair of binary erasure channel\n",
    "can be seen as a special case of tetrahedral erasure channel.\n",
    "\n",
    "Secondly, a TEC is called *balanced* if q = r = s.\n",
    "That is, if the probabilities correspond to the edges are the same.\n",
    "\n",
    "Thirdly, A TEC is called *edge-heavy* if it is balanced\n",
    "and if r is large enough compared to p and t.\n",
    "'''"
   ]
  },
  {
   "cell_type": "code",
   "execution_count": 186,
   "metadata": {},
   "outputs": [
    {
     "name": "stderr",
     "output_type": "stream",
     "text": [
      "                                                                           \r"
     ]
    },
    {
     "data": {
      "text/html": [
       "<video src=\"media/jupyter/E2_EulerDiagram@2022-09-19@23-35-44.mp4\" controls autoplay loop style=\"max-width: 60%;\"  >\n",
       "      Your browser does not support the <code>video</code> element.\n",
       "    </video>"
      ],
      "text/plain": [
       "<IPython.core.display.Video object>"
      ]
     },
     "metadata": {},
     "output_type": "display_data"
    }
   ],
   "source": [
    "%%manim -qh -v WARNING E2_EulerDiagram\n",
    "\n",
    "class E2_EulerDiagram(ThreeDScene):\n",
    "    def construct(self):\n",
    "        def rect_by_corner(SW, NE, txt):\n",
    "            SW = np.array(SW + [0])\n",
    "            NE = np.array(NE + [0])\n",
    "            rect = Rectangle(width=(NE-SW)[0], height=(NE-SW)[1]\n",
    "                                                              ).shift((SW+NE)/2)\n",
    "            recttxt = Tex(txt).next_to(SW, direction=UR, buff=.5)\n",
    "            return rect, recttxt\n",
    "        P0 = [-6,-2]; P1 = [6,3]\n",
    "        Q0 = [-5, 0]; Q1 = [-2.5, 1.5]\n",
    "        R0 = [-1,-1.5]; R1 = [5, 2.5]\n",
    "        S0 = [.5, 0]; S1 = [4, 2]\n",
    "        TEC, TECtxt = rect_by_corner(P0, P1, 'TEC')\n",
    "        BEC2, BEC2txt = rect_by_corner(Q0, Q1, 'BEC$^2$')\n",
    "        bala, balatxt = rect_by_corner(R0, R1, 'balanced')\n",
    "        heav, heavtxt = rect_by_corner(S0, S1, 'edge-heavy')\n",
    "        self.play(Create(TEC), Create(TECtxt), run_time=2)\n",
    "        self.play(Create(BEC2), Create(BEC2txt), run_time=2)\n",
    "        self.play(Create(bala), Create(balatxt), run_time=2)\n",
    "        self.play(Create(heav), Create(heavtxt), run_time=2)\n",
    "        self.wait(5)\n",
    "'''\n",
    "Here is a cartoon that shows the relation among what we just defined.\n",
    "\n",
    "What follows is the sketch of our proof of the new scaling exponent.\n",
    "'''"
   ]
  },
  {
   "cell_type": "code",
   "execution_count": 187,
   "metadata": {},
   "outputs": [
    {
     "name": "stderr",
     "output_type": "stream",
     "text": [
      "                                                                                                                            \r"
     ]
    },
    {
     "data": {
      "text/html": [
       "<video src=\"media/jupyter/E3_ProofSketch@2022-09-19@23-36-05.mp4\" controls autoplay loop style=\"max-width: 60%;\"  >\n",
       "      Your browser does not support the <code>video</code> element.\n",
       "    </video>"
      ],
      "text/plain": [
       "<IPython.core.display.Video object>"
      ]
     },
     "metadata": {},
     "output_type": "display_data"
    }
   ],
   "source": [
    "%%manim -qh -v WARNING E3_ProofSketch\n",
    "\n",
    "class E3_ProofSketch(ThreeDScene):\n",
    "    def construct(self):\n",
    "        def rect_by_corner(SW, NE, txt):\n",
    "            SW = np.array(SW + [0])\n",
    "            NE = np.array(NE + [0])\n",
    "            rect = Rectangle(width=(NE-SW)[0], height=(NE-SW)[1]\n",
    "                                                              ).shift((SW+NE)/2)\n",
    "            recttxt = Tex(txt).next_to(SW, direction=UR, buff=.5)\n",
    "            return rect, recttxt\n",
    "        P0 = [-6,-2]; P1 = [6,3]\n",
    "        Q0 = [-5, 0]; Q1 = [-2.5, 1.5]\n",
    "        R0 = [-1,-1.5]; R1 = [5, 2.5]\n",
    "        S0 = [.5, 0]; S1 = [4, 2]\n",
    "        TEC, TECtxt = rect_by_corner(P0, P1, 'TEC')\n",
    "        BEC2, BEC2txt = rect_by_corner(Q0, Q1, 'BEC$^2$')\n",
    "        bala, balatxt = rect_by_corner(R0, R1, 'balanced')\n",
    "        heav, heavtxt = rect_by_corner(S0, S1, 'edge-heavy')\n",
    "        step1 = Tex('Step 1: treat a pair of BECs as a TEC').shift(3*DOWN)\n",
    "        step2 = Tex('Step 2: prove that TEC becomes balanced').shift(3*DOWN)\n",
    "        step3 = Tex('Step 3: prove that TEC becomes edge-heavy').shift(3*DOWN)\n",
    "        step4 = Tex('Step 4: prove that edge-heavy implies fast polarization')\n",
    "        step4 .shift(3*DOWN)\n",
    "\n",
    "        self.add(TEC, TECtxt)\n",
    "        self.add(BEC2, BEC2txt)\n",
    "        self.add(bala, balatxt)\n",
    "        self.add(heav, heavtxt)\n",
    "        \n",
    "        BEC2copy = BEC2.copy().set_color(YELLOW).copy\n",
    "        self.play(Transform(BEC2copy(), TEC), Create(step1), run_time=2)\n",
    "        self.play(Transform(BEC2copy(), TEC), run_time=2)\n",
    "        self.play(Transform(BEC2copy(), TEC), run_time=2)\n",
    "        self.play(FadeOut(step1), run_time=1)\n",
    "\n",
    "        TECcopy = TEC.copy().set_color(YELLOW).copy\n",
    "        self.play(Transform(TECcopy(), bala), Create(step2), run_time=2)\n",
    "        self.play(Transform(TECcopy(), bala),  run_time=2)\n",
    "        self.play(Transform(TECcopy(), bala),  run_time=2)\n",
    "        self.play(FadeOut(step2), run_time=1)\n",
    "\n",
    "        balacopy = bala.copy().set_color(YELLOW).copy\n",
    "        self.play(Transform(balacopy(), heav), Create(step3), run_time=2)\n",
    "        self.play(Transform(balacopy(), heav),  run_time=2)\n",
    "        self.play(Transform(balacopy(), heav),  run_time=2)\n",
    "        self.play(FadeOut(step3), run_time=1)\n",
    "        \n",
    "        heavcopy = heav.copy()\n",
    "        heavfill = heav.copy().set_fill(YELLOW, opacity=.3)\n",
    "        self.play(Transform(heav,heavfill), Create(step4), run_time=2)\n",
    "        self.play(Transform(heav,heavcopy), run_time=2)\n",
    "        self.play(Transform(heav,heavfill), run_time=2)\n",
    "        self.play(Transform(heav,heavcopy), run_time=2)\n",
    "        self.play(FadeOut(step4), run_time=1)\n",
    "\n",
    "        self.wait(2)\n",
    "        self.play(FadeOut(*self.mobjects), run_time=1)\n",
    "'''\n",
    "Step 1: treat a pair of BECs as a TEC.\n",
    "Step 2: prove that TEC becomes balanced\n",
    "        after you apply parallel and serial operations.\n",
    "Step 3: prove that TEC becomes edge-heavy\n",
    "        after you apply parallel and serial operations.\n",
    "Step 4: prove that edge-heavy implies fast polarization,\n",
    "        and estimate the scaling exponent.\n",
    "'''"
   ]
  },
  {
   "cell_type": "markdown",
   "metadata": {},
   "source": [
    "# Section: Ending"
   ]
  },
  {
   "cell_type": "code",
   "execution_count": 188,
   "metadata": {},
   "outputs": [
    {
     "name": "stderr",
     "output_type": "stream",
     "text": [
      "                                                                                                                                                                                \r"
     ]
    },
    {
     "data": {
      "text/html": [
       "<video src=\"media/jupyter/F1_EndingPage@2022-09-19@23-36-49.mp4\" controls autoplay loop style=\"max-width: 60%;\"  >\n",
       "      Your browser does not support the <code>video</code> element.\n",
       "    </video>"
      ],
      "text/plain": [
       "<IPython.core.display.Video object>"
      ]
     },
     "metadata": {},
     "output_type": "display_data"
    }
   ],
   "source": [
    "%%manim -qh -v WARNING F1_EndingPage\n",
    "\n",
    "class F1_EndingPage(ThreeDScene):\n",
    "    def construct(self):\n",
    "        conclu = Tex(r'With those four steps, \\\\'\n",
    "                     r'we can show that BEC enjoys $\\mu < 3.328$ \\\\'\n",
    "                     r'using GF(4) arithmetics').shift(2*UP)\n",
    "        future = Tex(r'What will happen if we use GF(8)? \\\\'\n",
    "                     r'that will be of future work').shift(0*UP)\n",
    "        thanku = Tex(r'Thank you for coming').shift(2*DOWN)\n",
    "        self.play(FadeIn(conclu), run_time=2)\n",
    "        self.wait(4)\n",
    "        self.play(FadeIn(future), run_time=2)\n",
    "        self.wait(4)\n",
    "        self.play(FadeIn(thanku), run_time=2)\n",
    "        self.wait(4)\n",
    "        self.play(FadeOut(*self.mobjects), run_time=1)\n",
    "'''\n",
    "With those four steps, we can show that\n",
    "BEC enjoys mu less than 3.4 using finite field arithmetic.\n",
    "\n",
    "What will happen if we use GF(8) will be of future work.\n",
    "\n",
    "Thank you for coming.\n",
    "'''"
   ]
  },
  {
   "cell_type": "code",
   "execution_count": null,
   "metadata": {},
   "outputs": [],
   "source": []
  },
  {
   "cell_type": "code",
   "execution_count": null,
   "metadata": {},
   "outputs": [],
   "source": []
  },
  {
   "cell_type": "code",
   "execution_count": null,
   "metadata": {},
   "outputs": [],
   "source": []
  },
  {
   "cell_type": "code",
   "execution_count": null,
   "metadata": {},
   "outputs": [],
   "source": []
  },
  {
   "cell_type": "code",
   "execution_count": null,
   "metadata": {},
   "outputs": [],
   "source": []
  },
  {
   "cell_type": "code",
   "execution_count": null,
   "metadata": {},
   "outputs": [],
   "source": []
  },
  {
   "cell_type": "code",
   "execution_count": null,
   "metadata": {},
   "outputs": [],
   "source": []
  },
  {
   "cell_type": "code",
   "execution_count": null,
   "metadata": {},
   "outputs": [],
   "source": []
  },
  {
   "cell_type": "code",
   "execution_count": null,
   "metadata": {},
   "outputs": [],
   "source": []
  }
 ],
 "metadata": {
  "kernelspec": {
   "display_name": "Python 3.10.6 64-bit",
   "language": "python",
   "name": "python3"
  },
  "language_info": {
   "codemirror_mode": {
    "name": "ipython",
    "version": 3
   },
   "file_extension": ".py",
   "mimetype": "text/x-python",
   "name": "python",
   "nbconvert_exporter": "python",
   "pygments_lexer": "ipython3",
   "version": "3.10.6"
  },
  "orig_nbformat": 4,
  "vscode": {
   "interpreter": {
    "hash": "aee8b7b246df8f9039afb4144a1f6fd8d2ca17a180786b69acc140d282b71a49"
   }
  }
 },
 "nbformat": 4,
 "nbformat_minor": 2
}
